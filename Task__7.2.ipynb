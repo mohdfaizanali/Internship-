{
 "cells": [
  {
   "cell_type": "code",
   "execution_count": 1,
   "id": "939b2ff9",
   "metadata": {},
   "outputs": [],
   "source": [
    "import pandas as pd\n",
    "from sqlalchemy import create_engine, text\n",
    "import os"
   ]
  },
  {
   "cell_type": "code",
   "execution_count": 2,
   "id": "f2001f07",
   "metadata": {},
   "outputs": [],
   "source": [
    "# Oracle database connection details\n",
    "or_user = os.environ['oracle_username']\n",
    "or_pwd = os.environ['oracle_password']\n",
    "or_host = os.environ['oracle_host']\n",
    "or_port = os.environ['oracle_port']\n",
    "or_service = os.environ['oracle_service']\n"
   ]
  },
  {
   "cell_type": "code",
   "execution_count": 3,
   "id": "702434c4",
   "metadata": {},
   "outputs": [],
   "source": [
    "# PostgreSQL database connection details\n",
    "pg_user = os.environ['postgres_username']\n",
    "pg_pwd = os.environ['postgres_password']\n",
    "pg_host = os.environ['postgres_host']\n",
    "pg_port = os.environ['postgres_port']\n",
    "pg_database = os.environ['postgres_database']\n"
   ]
  },
  {
   "cell_type": "code",
   "execution_count": 4,
   "id": "ffab6f25",
   "metadata": {},
   "outputs": [],
   "source": [
    "# Create database connections\n",
    "oracle_engine = create_engine(f'oracle+cx_oracle://{or_user}:{or_pwd}@{or_host}:{or_port}/{or_service}')\n",
    "postgres_engine = create_engine(f'postgresql://{pg_user}:{pg_pwd}@{pg_host}:{pg_port}/{pg_database}')\n"
   ]
  },
  {
   "cell_type": "code",
   "execution_count": 5,
   "id": "e0e18d54",
   "metadata": {},
   "outputs": [
    {
     "name": "stdout",
     "output_type": "stream",
     "text": [
      "Max Postgres database last date value = 2024-02-19 19:24:08\n"
     ]
    }
   ],
   "source": [
    "# Get the maximum Last_updated timestamp from Postgres emp_table1\n",
    "max_last_updated_query_pg = 'SELECT MAX(\"Last_updated\") FROM emp_table9'\n",
    "max_last_updated_pg = pd.read_sql(max_last_updated_query_pg, postgres_engine)\n",
    "max_last_updated_pg_value = max_last_updated_pg.iloc[0, 0]  # Extracting the timestamp value\n",
    "print(\"Max Postgres database last date value =\", max_last_updated_pg_value)\n"
   ]
  },
  {
   "cell_type": "code",
   "execution_count": 6,
   "id": "037465cb",
   "metadata": {},
   "outputs": [
    {
     "name": "stdout",
     "output_type": "stream",
     "text": [
      "   Emp_id        Emp_name                  Emp_dept    Emp_joining_date  \\\n",
      "0     990      Fergus Pym  Research and Development 2024-01-20 01:08:15   \n",
      "1     998  Adda Greenhill                     Legal 2023-10-24 09:47:41   \n",
      "2     999    Giraud Levee                  Training 2024-02-17 19:02:50   \n",
      "3    1000     Garey Birks                  Training 2023-03-08 15:45:41   \n",
      "4    1001      Kiran Bhai                  Training 2023-04-03 15:22:58   \n",
      "\n",
      "             Last_updated  \n",
      "0 2024-03-19 11:35:47.543  \n",
      "1 2024-03-18 14:50:13.830  \n",
      "2 2024-03-18 14:45:50.808  \n",
      "3 2024-03-18 14:50:42.886  \n",
      "4 2024-03-18 14:50:46.597  \n"
     ]
    }
   ],
   "source": [
    "# Query differing data from Oracle emp_table1\n",
    "query_diff_ora = f\"\"\"\n",
    "    SELECT *\n",
    "    FROM emp_table9\n",
    "    WHERE \"Last_updated\" > TO_TIMESTAMP('{max_last_updated_pg_value}', 'YYYY-MM-DD HH24:MI:SS.FF')\n",
    "\"\"\"\n",
    "diff_ora = pd.read_sql(query_diff_ora, oracle_engine)\n",
    "print(diff_ora)\n"
   ]
  },
  {
   "cell_type": "code",
   "execution_count": 7,
   "id": "364b5014",
   "metadata": {},
   "outputs": [
    {
     "name": "stdout",
     "output_type": "stream",
     "text": [
      "(990, 998, 999, 1000, 1001)\n",
      "DELETE FROM emp_table9 WHERE \"Emp_id\" IN (990)\n",
      "DELETE FROM emp_table9 WHERE \"Emp_id\" IN (998)\n",
      "DELETE FROM emp_table9 WHERE \"Emp_id\" IN (999)\n",
      "DELETE FROM emp_table9 WHERE \"Emp_id\" IN (1000)\n",
      "Existing records deleted from emp_table9 in PostgreSQL.\n",
      "Differing data loaded into emp_table9 in PostgreSQL database.\n"
     ]
    }
   ],
   "source": [
    "# Check for existing records in PostgreSQL with primary key values matching those of the differing data\n",
    "if not diff_ora.empty:\n",
    "    primary_key_values = tuple(diff_ora['Emp_id'])\n",
    "    existing_records_query = text('SELECT * FROM emp_table9 WHERE \"Emp_id\" IN :ids')\n",
    "    existing_records_query = existing_records_query.bindparams(ids=primary_key_values)\n",
    "    existing_records = pd.read_sql(existing_records_query, postgres_engine)\n",
    "    print(primary_key_values)\n",
    "\n",
    "    # Delete existing records from Postgres table if found\n",
    "    if not existing_records.empty:\n",
    "        with postgres_engine.connect() as connection:\n",
    "            for index, row in existing_records.iterrows():\n",
    "                delete_query = text(f'DELETE FROM emp_table9 WHERE \"Emp_id\" IN ({row[\"Emp_id\"]})')\n",
    "                connection.execute(delete_query)\n",
    "                print(delete_query)\n",
    "            print(\"Existing records deleted from emp_table9 in PostgreSQL.\")\n",
    "\n",
    "    # Load the differing data into PostgreSQL table emp_table9\n",
    "    diff_ora.to_sql('emp_table9', postgres_engine, if_exists='append', index=False)\n",
    "    print(\"Differing data loaded into emp_table9 in PostgreSQL database.\")\n",
    "else:\n",
    "    print(\"No differing data found in Oracle. Nothing to load.\")"
   ]
  }
 ],
 "metadata": {
  "kernelspec": {
   "display_name": "Python 3 (ipykernel)",
   "language": "python",
   "name": "python3"
  },
  "language_info": {
   "codemirror_mode": {
    "name": "ipython",
    "version": 3
   },
   "file_extension": ".py",
   "mimetype": "text/x-python",
   "name": "python",
   "nbconvert_exporter": "python",
   "pygments_lexer": "ipython3",
   "version": "3.11.5"
  }
 },
 "nbformat": 4,
 "nbformat_minor": 5
}
